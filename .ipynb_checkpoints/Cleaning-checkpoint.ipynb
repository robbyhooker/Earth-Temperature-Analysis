{
 "cells": [
  {
   "cell_type": "code",
   "execution_count": 90,
   "id": "024c68c1",
   "metadata": {},
   "outputs": [],
   "source": [
    "import pandas as pd\n",
    "import matplotlib.pyplot as plt\n",
    "import numpy as np"
   ]
  },
  {
   "cell_type": "code",
   "execution_count": 92,
   "id": "b7e62eff",
   "metadata": {},
   "outputs": [],
   "source": [
    "df = pd.read_csv(\"GlobalLandTemperaturesByMajorCity.csv\")"
   ]
  },
  {
   "cell_type": "code",
   "execution_count": 93,
   "id": "ea96df0c",
   "metadata": {},
   "outputs": [
    {
     "data": {
      "text/html": [
       "<div>\n",
       "<style scoped>\n",
       "    .dataframe tbody tr th:only-of-type {\n",
       "        vertical-align: middle;\n",
       "    }\n",
       "\n",
       "    .dataframe tbody tr th {\n",
       "        vertical-align: top;\n",
       "    }\n",
       "\n",
       "    .dataframe thead th {\n",
       "        text-align: right;\n",
       "    }\n",
       "</style>\n",
       "<table border=\"1\" class=\"dataframe\">\n",
       "  <thead>\n",
       "    <tr style=\"text-align: right;\">\n",
       "      <th></th>\n",
       "      <th>dt</th>\n",
       "      <th>AverageTemperature</th>\n",
       "      <th>AverageTemperatureUncertainty</th>\n",
       "      <th>City</th>\n",
       "      <th>Country</th>\n",
       "      <th>Latitude</th>\n",
       "      <th>Longitude</th>\n",
       "    </tr>\n",
       "  </thead>\n",
       "  <tbody>\n",
       "    <tr>\n",
       "      <th>0</th>\n",
       "      <td>1849-01-01</td>\n",
       "      <td>26.704</td>\n",
       "      <td>1.435</td>\n",
       "      <td>Abidjan</td>\n",
       "      <td>Côte D'Ivoire</td>\n",
       "      <td>5.63N</td>\n",
       "      <td>3.23W</td>\n",
       "    </tr>\n",
       "    <tr>\n",
       "      <th>1</th>\n",
       "      <td>1849-02-01</td>\n",
       "      <td>27.434</td>\n",
       "      <td>1.362</td>\n",
       "      <td>Abidjan</td>\n",
       "      <td>Côte D'Ivoire</td>\n",
       "      <td>5.63N</td>\n",
       "      <td>3.23W</td>\n",
       "    </tr>\n",
       "    <tr>\n",
       "      <th>2</th>\n",
       "      <td>1849-03-01</td>\n",
       "      <td>28.101</td>\n",
       "      <td>1.612</td>\n",
       "      <td>Abidjan</td>\n",
       "      <td>Côte D'Ivoire</td>\n",
       "      <td>5.63N</td>\n",
       "      <td>3.23W</td>\n",
       "    </tr>\n",
       "    <tr>\n",
       "      <th>3</th>\n",
       "      <td>1849-04-01</td>\n",
       "      <td>26.140</td>\n",
       "      <td>1.387</td>\n",
       "      <td>Abidjan</td>\n",
       "      <td>Côte D'Ivoire</td>\n",
       "      <td>5.63N</td>\n",
       "      <td>3.23W</td>\n",
       "    </tr>\n",
       "    <tr>\n",
       "      <th>4</th>\n",
       "      <td>1849-05-01</td>\n",
       "      <td>25.427</td>\n",
       "      <td>1.200</td>\n",
       "      <td>Abidjan</td>\n",
       "      <td>Côte D'Ivoire</td>\n",
       "      <td>5.63N</td>\n",
       "      <td>3.23W</td>\n",
       "    </tr>\n",
       "    <tr>\n",
       "      <th>...</th>\n",
       "      <td>...</td>\n",
       "      <td>...</td>\n",
       "      <td>...</td>\n",
       "      <td>...</td>\n",
       "      <td>...</td>\n",
       "      <td>...</td>\n",
       "      <td>...</td>\n",
       "    </tr>\n",
       "    <tr>\n",
       "      <th>239172</th>\n",
       "      <td>2013-05-01</td>\n",
       "      <td>18.979</td>\n",
       "      <td>0.807</td>\n",
       "      <td>Xian</td>\n",
       "      <td>China</td>\n",
       "      <td>34.56N</td>\n",
       "      <td>108.97E</td>\n",
       "    </tr>\n",
       "    <tr>\n",
       "      <th>239173</th>\n",
       "      <td>2013-06-01</td>\n",
       "      <td>23.522</td>\n",
       "      <td>0.647</td>\n",
       "      <td>Xian</td>\n",
       "      <td>China</td>\n",
       "      <td>34.56N</td>\n",
       "      <td>108.97E</td>\n",
       "    </tr>\n",
       "    <tr>\n",
       "      <th>239174</th>\n",
       "      <td>2013-07-01</td>\n",
       "      <td>25.251</td>\n",
       "      <td>1.042</td>\n",
       "      <td>Xian</td>\n",
       "      <td>China</td>\n",
       "      <td>34.56N</td>\n",
       "      <td>108.97E</td>\n",
       "    </tr>\n",
       "    <tr>\n",
       "      <th>239175</th>\n",
       "      <td>2013-08-01</td>\n",
       "      <td>24.528</td>\n",
       "      <td>0.840</td>\n",
       "      <td>Xian</td>\n",
       "      <td>China</td>\n",
       "      <td>34.56N</td>\n",
       "      <td>108.97E</td>\n",
       "    </tr>\n",
       "    <tr>\n",
       "      <th>239176</th>\n",
       "      <td>2013-09-01</td>\n",
       "      <td>NaN</td>\n",
       "      <td>NaN</td>\n",
       "      <td>Xian</td>\n",
       "      <td>China</td>\n",
       "      <td>34.56N</td>\n",
       "      <td>108.97E</td>\n",
       "    </tr>\n",
       "  </tbody>\n",
       "</table>\n",
       "<p>239177 rows × 7 columns</p>\n",
       "</div>"
      ],
      "text/plain": [
       "                dt  AverageTemperature  AverageTemperatureUncertainty  \\\n",
       "0       1849-01-01              26.704                          1.435   \n",
       "1       1849-02-01              27.434                          1.362   \n",
       "2       1849-03-01              28.101                          1.612   \n",
       "3       1849-04-01              26.140                          1.387   \n",
       "4       1849-05-01              25.427                          1.200   \n",
       "...            ...                 ...                            ...   \n",
       "239172  2013-05-01              18.979                          0.807   \n",
       "239173  2013-06-01              23.522                          0.647   \n",
       "239174  2013-07-01              25.251                          1.042   \n",
       "239175  2013-08-01              24.528                          0.840   \n",
       "239176  2013-09-01                 NaN                            NaN   \n",
       "\n",
       "           City        Country Latitude Longitude  \n",
       "0       Abidjan  Côte D'Ivoire    5.63N     3.23W  \n",
       "1       Abidjan  Côte D'Ivoire    5.63N     3.23W  \n",
       "2       Abidjan  Côte D'Ivoire    5.63N     3.23W  \n",
       "3       Abidjan  Côte D'Ivoire    5.63N     3.23W  \n",
       "4       Abidjan  Côte D'Ivoire    5.63N     3.23W  \n",
       "...         ...            ...      ...       ...  \n",
       "239172     Xian          China   34.56N   108.97E  \n",
       "239173     Xian          China   34.56N   108.97E  \n",
       "239174     Xian          China   34.56N   108.97E  \n",
       "239175     Xian          China   34.56N   108.97E  \n",
       "239176     Xian          China   34.56N   108.97E  \n",
       "\n",
       "[239177 rows x 7 columns]"
      ]
     },
     "execution_count": 93,
     "metadata": {},
     "output_type": "execute_result"
    }
   ],
   "source": [
    "df.drop_duplicates()"
   ]
  },
  {
   "cell_type": "code",
   "execution_count": 94,
   "id": "5f22d872",
   "metadata": {},
   "outputs": [
    {
     "name": "stdout",
     "output_type": "stream",
     "text": [
      "['Abidjan' 'Addis Abeba' 'Ahmadabad' 'Aleppo' 'Alexandria' 'Ankara'\n",
      " 'Baghdad' 'Bangalore' 'Bangkok' 'Belo Horizonte' 'Berlin' 'Bogotá'\n",
      " 'Bombay' 'Brasília' 'Cairo' 'Calcutta' 'Cali' 'Cape Town' 'Casablanca'\n",
      " 'Changchun' 'Chengdu' 'Chicago' 'Chongqing' 'Dakar' 'Dalian'\n",
      " 'Dar Es Salaam' 'Delhi' 'Dhaka' 'Durban' 'Faisalabad' 'Fortaleza' 'Gizeh'\n",
      " 'Guangzhou' 'Harare' 'Harbin' 'Ho Chi Minh City' 'Hyderabad' 'Ibadan'\n",
      " 'Istanbul' 'Izmir' 'Jaipur' 'Jakarta' 'Jiddah' 'Jinan' 'Kabul' 'Kano'\n",
      " 'Kanpur' 'Karachi' 'Kiev' 'Kinshasa' 'Lagos' 'Lahore' 'Lakhnau' 'Lima'\n",
      " 'London' 'Los Angeles' 'Luanda' 'Madras' 'Madrid' 'Manila' 'Mashhad'\n",
      " 'Melbourne' 'Mexico' 'Mogadishu' 'Montreal' 'Moscow' 'Nagoya' 'Nagpur'\n",
      " 'Nairobi' 'Nanjing' 'New Delhi' 'New York' 'Paris' 'Peking' 'Pune'\n",
      " 'Rangoon' 'Rio De Janeiro' 'Riyadh' 'Rome' 'São Paulo' 'Saint Petersburg'\n",
      " 'Salvador' 'Santiago' 'Santo Domingo' 'Seoul' 'Shanghai' 'Shenyang'\n",
      " 'Singapore' 'Surabaya' 'Surat' 'Sydney' 'Taipei' 'Taiyuan' 'Tangshan'\n",
      " 'Tianjin' 'Tokyo' 'Toronto' 'Umm Durman' 'Wuhan' 'Xian']\n"
     ]
    }
   ],
   "source": [
    "#listing city values\n",
    "unique_cities = df['City'].unique()\n",
    "print(unique_cities)"
   ]
  },
  {
   "cell_type": "code",
   "execution_count": 95,
   "id": "e6c76e83",
   "metadata": {},
   "outputs": [],
   "source": [
    "#creating list of cities to be studied\n",
    "target_cities = ['Tokyo', 'Melbourne', 'New York', 'Cape Town', 'Paris', 'Cairo', 'Santiago', 'Brasilia', 'Delhi', 'Ho Chi Minh City', 'Los Angeles']"
   ]
  },
  {
   "cell_type": "code",
   "execution_count": 96,
   "id": "f3b43326",
   "metadata": {},
   "outputs": [],
   "source": [
    "#creating df of target cities\n",
    "df2 = df[df['City'].isin(target_cities)]"
   ]
  },
  {
   "cell_type": "code",
   "execution_count": 97,
   "id": "3556cb12",
   "metadata": {
    "scrolled": true
   },
   "outputs": [
    {
     "data": {
      "text/html": [
       "<div>\n",
       "<style scoped>\n",
       "    .dataframe tbody tr th:only-of-type {\n",
       "        vertical-align: middle;\n",
       "    }\n",
       "\n",
       "    .dataframe tbody tr th {\n",
       "        vertical-align: top;\n",
       "    }\n",
       "\n",
       "    .dataframe thead th {\n",
       "        text-align: right;\n",
       "    }\n",
       "</style>\n",
       "<table border=\"1\" class=\"dataframe\">\n",
       "  <thead>\n",
       "    <tr style=\"text-align: right;\">\n",
       "      <th></th>\n",
       "      <th>dt</th>\n",
       "      <th>AverageTemperature</th>\n",
       "      <th>AverageTemperatureUncertainty</th>\n",
       "      <th>City</th>\n",
       "      <th>Country</th>\n",
       "      <th>Latitude</th>\n",
       "      <th>Longitude</th>\n",
       "    </tr>\n",
       "  </thead>\n",
       "  <tbody>\n",
       "    <tr>\n",
       "      <th>34810</th>\n",
       "      <td>1808-10-01</td>\n",
       "      <td>22.216</td>\n",
       "      <td>1.875</td>\n",
       "      <td>Cairo</td>\n",
       "      <td>Egypt</td>\n",
       "      <td>29.74N</td>\n",
       "      <td>31.38E</td>\n",
       "    </tr>\n",
       "    <tr>\n",
       "      <th>34811</th>\n",
       "      <td>1808-11-01</td>\n",
       "      <td>17.766</td>\n",
       "      <td>2.211</td>\n",
       "      <td>Cairo</td>\n",
       "      <td>Egypt</td>\n",
       "      <td>29.74N</td>\n",
       "      <td>31.38E</td>\n",
       "    </tr>\n",
       "    <tr>\n",
       "      <th>34812</th>\n",
       "      <td>1808-12-01</td>\n",
       "      <td>11.338</td>\n",
       "      <td>1.971</td>\n",
       "      <td>Cairo</td>\n",
       "      <td>Egypt</td>\n",
       "      <td>29.74N</td>\n",
       "      <td>31.38E</td>\n",
       "    </tr>\n",
       "    <tr>\n",
       "      <th>34813</th>\n",
       "      <td>1809-01-01</td>\n",
       "      <td>10.337</td>\n",
       "      <td>2.911</td>\n",
       "      <td>Cairo</td>\n",
       "      <td>Egypt</td>\n",
       "      <td>29.74N</td>\n",
       "      <td>31.38E</td>\n",
       "    </tr>\n",
       "    <tr>\n",
       "      <th>34814</th>\n",
       "      <td>1809-02-01</td>\n",
       "      <td>12.113</td>\n",
       "      <td>2.848</td>\n",
       "      <td>Cairo</td>\n",
       "      <td>Egypt</td>\n",
       "      <td>29.74N</td>\n",
       "      <td>31.38E</td>\n",
       "    </tr>\n",
       "    <tr>\n",
       "      <th>...</th>\n",
       "      <td>...</td>\n",
       "      <td>...</td>\n",
       "      <td>...</td>\n",
       "      <td>...</td>\n",
       "      <td>...</td>\n",
       "      <td>...</td>\n",
       "      <td>...</td>\n",
       "    </tr>\n",
       "    <tr>\n",
       "      <th>229685</th>\n",
       "      <td>2013-05-01</td>\n",
       "      <td>16.757</td>\n",
       "      <td>0.396</td>\n",
       "      <td>Tokyo</td>\n",
       "      <td>Japan</td>\n",
       "      <td>36.17N</td>\n",
       "      <td>139.23E</td>\n",
       "    </tr>\n",
       "    <tr>\n",
       "      <th>229686</th>\n",
       "      <td>2013-06-01</td>\n",
       "      <td>20.927</td>\n",
       "      <td>0.489</td>\n",
       "      <td>Tokyo</td>\n",
       "      <td>Japan</td>\n",
       "      <td>36.17N</td>\n",
       "      <td>139.23E</td>\n",
       "    </tr>\n",
       "    <tr>\n",
       "      <th>229687</th>\n",
       "      <td>2013-07-01</td>\n",
       "      <td>24.645</td>\n",
       "      <td>0.404</td>\n",
       "      <td>Tokyo</td>\n",
       "      <td>Japan</td>\n",
       "      <td>36.17N</td>\n",
       "      <td>139.23E</td>\n",
       "    </tr>\n",
       "    <tr>\n",
       "      <th>229688</th>\n",
       "      <td>2013-08-01</td>\n",
       "      <td>26.364</td>\n",
       "      <td>0.461</td>\n",
       "      <td>Tokyo</td>\n",
       "      <td>Japan</td>\n",
       "      <td>36.17N</td>\n",
       "      <td>139.23E</td>\n",
       "    </tr>\n",
       "    <tr>\n",
       "      <th>229689</th>\n",
       "      <td>2013-09-01</td>\n",
       "      <td>NaN</td>\n",
       "      <td>NaN</td>\n",
       "      <td>Tokyo</td>\n",
       "      <td>Japan</td>\n",
       "      <td>36.17N</td>\n",
       "      <td>139.23E</td>\n",
       "    </tr>\n",
       "  </tbody>\n",
       "</table>\n",
       "<p>23673 rows × 7 columns</p>\n",
       "</div>"
      ],
      "text/plain": [
       "                dt  AverageTemperature  AverageTemperatureUncertainty   City  \\\n",
       "34810   1808-10-01              22.216                          1.875  Cairo   \n",
       "34811   1808-11-01              17.766                          2.211  Cairo   \n",
       "34812   1808-12-01              11.338                          1.971  Cairo   \n",
       "34813   1809-01-01              10.337                          2.911  Cairo   \n",
       "34814   1809-02-01              12.113                          2.848  Cairo   \n",
       "...            ...                 ...                            ...    ...   \n",
       "229685  2013-05-01              16.757                          0.396  Tokyo   \n",
       "229686  2013-06-01              20.927                          0.489  Tokyo   \n",
       "229687  2013-07-01              24.645                          0.404  Tokyo   \n",
       "229688  2013-08-01              26.364                          0.461  Tokyo   \n",
       "229689  2013-09-01                 NaN                            NaN  Tokyo   \n",
       "\n",
       "       Country Latitude Longitude  \n",
       "34810    Egypt   29.74N    31.38E  \n",
       "34811    Egypt   29.74N    31.38E  \n",
       "34812    Egypt   29.74N    31.38E  \n",
       "34813    Egypt   29.74N    31.38E  \n",
       "34814    Egypt   29.74N    31.38E  \n",
       "...        ...      ...       ...  \n",
       "229685   Japan   36.17N   139.23E  \n",
       "229686   Japan   36.17N   139.23E  \n",
       "229687   Japan   36.17N   139.23E  \n",
       "229688   Japan   36.17N   139.23E  \n",
       "229689   Japan   36.17N   139.23E  \n",
       "\n",
       "[23673 rows x 7 columns]"
      ]
     },
     "execution_count": 97,
     "metadata": {},
     "output_type": "execute_result"
    }
   ],
   "source": [
    "df2"
   ]
  },
  {
   "cell_type": "code",
   "execution_count": 98,
   "id": "d5802d02",
   "metadata": {
    "scrolled": true
   },
   "outputs": [
    {
     "name": "stdout",
     "output_type": "stream",
     "text": [
      "<class 'pandas.core.frame.DataFrame'>\n",
      "Int64Index: 23673 entries, 34810 to 229689\n",
      "Data columns (total 7 columns):\n",
      " #   Column                         Non-Null Count  Dtype  \n",
      "---  ------                         --------------  -----  \n",
      " 0   dt                             23673 non-null  object \n",
      " 1   AverageTemperature             23027 non-null  float64\n",
      " 2   AverageTemperatureUncertainty  23027 non-null  float64\n",
      " 3   City                           23673 non-null  object \n",
      " 4   Country                        23673 non-null  object \n",
      " 5   Latitude                       23673 non-null  object \n",
      " 6   Longitude                      23673 non-null  object \n",
      "dtypes: float64(2), object(5)\n",
      "memory usage: 1.4+ MB\n"
     ]
    }
   ],
   "source": [
    "df2.info()"
   ]
  },
  {
   "cell_type": "code",
   "execution_count": 99,
   "id": "cea09c02",
   "metadata": {},
   "outputs": [
    {
     "name": "stderr",
     "output_type": "stream",
     "text": [
      "C:\\Users\\robby\\AppData\\Local\\Temp/ipykernel_4072/45759493.py:1: SettingWithCopyWarning: \n",
      "A value is trying to be set on a copy of a slice from a DataFrame.\n",
      "Try using .loc[row_indexer,col_indexer] = value instead\n",
      "\n",
      "See the caveats in the documentation: https://pandas.pydata.org/pandas-docs/stable/user_guide/indexing.html#returning-a-view-versus-a-copy\n",
      "  df2['dt'] = pd.to_datetime(df2['dt'])\n"
     ]
    }
   ],
   "source": [
    "df2['dt'] = pd.to_datetime(df2['dt'])"
   ]
  },
  {
   "cell_type": "code",
   "execution_count": 100,
   "id": "b48ffb96",
   "metadata": {
    "scrolled": true
   },
   "outputs": [
    {
     "name": "stderr",
     "output_type": "stream",
     "text": [
      "C:\\Users\\robby\\AppData\\Local\\Temp/ipykernel_4072/3605359693.py:1: SettingWithCopyWarning: \n",
      "A value is trying to be set on a copy of a slice from a DataFrame.\n",
      "Try using .loc[row_indexer,col_indexer] = value instead\n",
      "\n",
      "See the caveats in the documentation: https://pandas.pydata.org/pandas-docs/stable/user_guide/indexing.html#returning-a-view-versus-a-copy\n",
      "  df2['Year'] = df2['dt'].dt.year\n"
     ]
    }
   ],
   "source": [
    "df2['Year'] = df2['dt'].dt.year"
   ]
  },
  {
   "cell_type": "code",
   "execution_count": 101,
   "id": "e1e007e5",
   "metadata": {},
   "outputs": [
    {
     "name": "stdout",
     "output_type": "stream",
     "text": [
      "dt: 0\n",
      "AverageTemperature: 646\n",
      "AverageTemperatureUncertainty: 646\n",
      "City: 0\n",
      "Country: 0\n",
      "Latitude: 0\n",
      "Longitude: 0\n",
      "Year: 0\n"
     ]
    }
   ],
   "source": [
    "#checking NaN values\n",
    "for cols in df2.columns:\n",
    "    print(f\"{cols}: {df2[cols].isna().sum()}\")"
   ]
  },
  {
   "cell_type": "code",
   "execution_count": 102,
   "id": "def8a3f1",
   "metadata": {},
   "outputs": [],
   "source": [
    "#removing NaN\n",
    "df3 = df2[df2['AverageTemperature'].notna()]"
   ]
  },
  {
   "cell_type": "code",
   "execution_count": 103,
   "id": "32f7dfb4",
   "metadata": {},
   "outputs": [
    {
     "name": "stdout",
     "output_type": "stream",
     "text": [
      "Nan Value Counts:\n",
      "dt: 0\n",
      "AverageTemperature: 0\n",
      "AverageTemperatureUncertainty: 0\n",
      "City: 0\n",
      "Country: 0\n",
      "Latitude: 0\n",
      "Longitude: 0\n",
      "Year: 0\n"
     ]
    }
   ],
   "source": [
    "print(\"Nan Value Counts:\")\n",
    "for col in df2.columns:\n",
    "    print(f\"{col}: {df3[col].isna().sum()}\")"
   ]
  },
  {
   "cell_type": "code",
   "execution_count": 146,
   "id": "2b17f39f",
   "metadata": {},
   "outputs": [
    {
     "data": {
      "image/png": "[encoded data removed]",
      "text/plain": [
       "<Figure size 432x288 with 1 Axes>"
      ]
     },
     "metadata": {
      "needs_background": "light"
     },
     "output_type": "display_data"
    }
   ],
   "source": [
    "average_uncertainty_by_year = df3.groupby('Year')['AverageTemperatureUncertainty'].mean()\n",
    "\n",
    "# Plot the results\n",
    "plt.scatter(average_uncertainty_by_year.index, average_uncertainty_by_year.values, color='skyblue')\n",
    "plt.title('Average Temperature Uncertainty by Year')\n",
    "plt.xlabel('Year')\n",
    "plt.ylabel('Average Temperature Uncertainty')\n",
    "plt.xticks(range(min(df3['Year']), max(df3['Year'])+1, 25))\n",
    "plt.axhline(y=1, color='red', linestyle='--', label='y = 1')\n",
    "plt.axvline(x=1880, color='red', linestyle='--', label='x = 1')\n",
    "plt.show()"
   ]
  },
  {
   "cell_type": "code",
   "execution_count": 145,
   "id": "3edc7b89",
   "metadata": {},
   "outputs": [
    {
     "data": {
      "image/png": "[encoded data removed]",
      "text/plain": [
       "<Figure size 432x288 with 1 Axes>"
      ]
     },
     "metadata": {
      "needs_background": "light"
     },
     "output_type": "display_data"
    }
   ],
   "source": [
    "average_uncertainty_by_year = df3.groupby('Year')['AverageTemperature'].mean()\n",
    "\n",
    "# Plot the results\n",
    "plt.scatter(average_uncertainty_by_year.index, average_uncertainty_by_year.values, color='skyblue')\n",
    "plt.title('Average Temperature by Year')\n",
    "plt.xlabel('Year')\n",
    "plt.ylabel('Average Temperature')\n",
    "plt.xticks(range(min(df3['Year']), max(df3['Year'])+1, 25))\n",
    "plt.axvline(x=1880, color='red', linestyle='--', label='x = 1')\n",
    "plt.show()"
   ]
  },
  {
   "cell_type": "code",
   "execution_count": 151,
   "id": "2ded27d3",
   "metadata": {},
   "outputs": [],
   "source": [
    "df4 = df3[df3['Year'] > 1879]"
   ]
  },
  {
   "cell_type": "code",
   "execution_count": 152,
   "id": "be5b4a82",
   "metadata": {
    "scrolled": true
   },
   "outputs": [
    {
     "data": {
      "text/html": [
       "<div>\n",
       "<style scoped>\n",
       "    .dataframe tbody tr th:only-of-type {\n",
       "        vertical-align: middle;\n",
       "    }\n",
       "\n",
       "    .dataframe tbody tr th {\n",
       "        vertical-align: top;\n",
       "    }\n",
       "\n",
       "    .dataframe thead th {\n",
       "        text-align: right;\n",
       "    }\n",
       "</style>\n",
       "<table border=\"1\" class=\"dataframe\">\n",
       "  <thead>\n",
       "    <tr style=\"text-align: right;\">\n",
       "      <th></th>\n",
       "      <th>dt</th>\n",
       "      <th>AverageTemperature</th>\n",
       "      <th>AverageTemperatureUncertainty</th>\n",
       "      <th>City</th>\n",
       "      <th>Country</th>\n",
       "      <th>Latitude</th>\n",
       "      <th>Longitude</th>\n",
       "      <th>Year</th>\n",
       "    </tr>\n",
       "  </thead>\n",
       "  <tbody>\n",
       "    <tr>\n",
       "      <th>35665</th>\n",
       "      <td>1880-01-01</td>\n",
       "      <td>10.418</td>\n",
       "      <td>1.054</td>\n",
       "      <td>Cairo</td>\n",
       "      <td>Egypt</td>\n",
       "      <td>29.74N</td>\n",
       "      <td>31.38E</td>\n",
       "      <td>1880</td>\n",
       "    </tr>\n",
       "    <tr>\n",
       "      <th>35666</th>\n",
       "      <td>1880-02-01</td>\n",
       "      <td>13.988</td>\n",
       "      <td>0.713</td>\n",
       "      <td>Cairo</td>\n",
       "      <td>Egypt</td>\n",
       "      <td>29.74N</td>\n",
       "      <td>31.38E</td>\n",
       "      <td>1880</td>\n",
       "    </tr>\n",
       "    <tr>\n",
       "      <th>35667</th>\n",
       "      <td>1880-03-01</td>\n",
       "      <td>15.382</td>\n",
       "      <td>1.018</td>\n",
       "      <td>Cairo</td>\n",
       "      <td>Egypt</td>\n",
       "      <td>29.74N</td>\n",
       "      <td>31.38E</td>\n",
       "      <td>1880</td>\n",
       "    </tr>\n",
       "    <tr>\n",
       "      <th>35668</th>\n",
       "      <td>1880-04-01</td>\n",
       "      <td>21.037</td>\n",
       "      <td>1.491</td>\n",
       "      <td>Cairo</td>\n",
       "      <td>Egypt</td>\n",
       "      <td>29.74N</td>\n",
       "      <td>31.38E</td>\n",
       "      <td>1880</td>\n",
       "    </tr>\n",
       "    <tr>\n",
       "      <th>35669</th>\n",
       "      <td>1880-05-01</td>\n",
       "      <td>24.740</td>\n",
       "      <td>0.844</td>\n",
       "      <td>Cairo</td>\n",
       "      <td>Egypt</td>\n",
       "      <td>29.74N</td>\n",
       "      <td>31.38E</td>\n",
       "      <td>1880</td>\n",
       "    </tr>\n",
       "    <tr>\n",
       "      <th>...</th>\n",
       "      <td>...</td>\n",
       "      <td>...</td>\n",
       "      <td>...</td>\n",
       "      <td>...</td>\n",
       "      <td>...</td>\n",
       "      <td>...</td>\n",
       "      <td>...</td>\n",
       "      <td>...</td>\n",
       "    </tr>\n",
       "    <tr>\n",
       "      <th>229684</th>\n",
       "      <td>2013-04-01</td>\n",
       "      <td>11.310</td>\n",
       "      <td>0.493</td>\n",
       "      <td>Tokyo</td>\n",
       "      <td>Japan</td>\n",
       "      <td>36.17N</td>\n",
       "      <td>139.23E</td>\n",
       "      <td>2013</td>\n",
       "    </tr>\n",
       "    <tr>\n",
       "      <th>229685</th>\n",
       "      <td>2013-05-01</td>\n",
       "      <td>16.757</td>\n",
       "      <td>0.396</td>\n",
       "      <td>Tokyo</td>\n",
       "      <td>Japan</td>\n",
       "      <td>36.17N</td>\n",
       "      <td>139.23E</td>\n",
       "      <td>2013</td>\n",
       "    </tr>\n",
       "    <tr>\n",
       "      <th>229686</th>\n",
       "      <td>2013-06-01</td>\n",
       "      <td>20.927</td>\n",
       "      <td>0.489</td>\n",
       "      <td>Tokyo</td>\n",
       "      <td>Japan</td>\n",
       "      <td>36.17N</td>\n",
       "      <td>139.23E</td>\n",
       "      <td>2013</td>\n",
       "    </tr>\n",
       "    <tr>\n",
       "      <th>229687</th>\n",
       "      <td>2013-07-01</td>\n",
       "      <td>24.645</td>\n",
       "      <td>0.404</td>\n",
       "      <td>Tokyo</td>\n",
       "      <td>Japan</td>\n",
       "      <td>36.17N</td>\n",
       "      <td>139.23E</td>\n",
       "      <td>2013</td>\n",
       "    </tr>\n",
       "    <tr>\n",
       "      <th>229688</th>\n",
       "      <td>2013-08-01</td>\n",
       "      <td>26.364</td>\n",
       "      <td>0.461</td>\n",
       "      <td>Tokyo</td>\n",
       "      <td>Japan</td>\n",
       "      <td>36.17N</td>\n",
       "      <td>139.23E</td>\n",
       "      <td>2013</td>\n",
       "    </tr>\n",
       "  </tbody>\n",
       "</table>\n",
       "<p>16041 rows × 8 columns</p>\n",
       "</div>"
      ],
      "text/plain": [
       "               dt  AverageTemperature  AverageTemperatureUncertainty   City  \\\n",
       "35665  1880-01-01              10.418                          1.054  Cairo   \n",
       "35666  1880-02-01              13.988                          0.713  Cairo   \n",
       "35667  1880-03-01              15.382                          1.018  Cairo   \n",
       "35668  1880-04-01              21.037                          1.491  Cairo   \n",
       "35669  1880-05-01              24.740                          0.844  Cairo   \n",
       "...           ...                 ...                            ...    ...   \n",
       "229684 2013-04-01              11.310                          0.493  Tokyo   \n",
       "229685 2013-05-01              16.757                          0.396  Tokyo   \n",
       "229686 2013-06-01              20.927                          0.489  Tokyo   \n",
       "229687 2013-07-01              24.645                          0.404  Tokyo   \n",
       "229688 2013-08-01              26.364                          0.461  Tokyo   \n",
       "\n",
       "       Country Latitude Longitude  Year  \n",
       "35665    Egypt   29.74N    31.38E  1880  \n",
       "35666    Egypt   29.74N    31.38E  1880  \n",
       "35667    Egypt   29.74N    31.38E  1880  \n",
       "35668    Egypt   29.74N    31.38E  1880  \n",
       "35669    Egypt   29.74N    31.38E  1880  \n",
       "...        ...      ...       ...   ...  \n",
       "229684   Japan   36.17N   139.23E  2013  \n",
       "229685   Japan   36.17N   139.23E  2013  \n",
       "229686   Japan   36.17N   139.23E  2013  \n",
       "229687   Japan   36.17N   139.23E  2013  \n",
       "229688   Japan   36.17N   139.23E  2013  \n",
       "\n",
       "[16041 rows x 8 columns]"
      ]
     },
     "execution_count": 152,
     "metadata": {},
     "output_type": "execute_result"
    }
   ],
   "source": [
    "df4"
   ]
  },
  {
   "cell_type": "code",
   "execution_count": 165,
   "id": "073c4fd7",
   "metadata": {},
   "outputs": [
    {
     "data": {
      "image/png": "[encoded data removed]",
      "text/plain": [
       "<Figure size 432x288 with 1 Axes>"
      ]
     },
     "metadata": {
      "needs_background": "light"
     },
     "output_type": "display_data"
    }
   ],
   "source": [
    "average_uncertainty_by_year = df4.groupby('Year')['AverageTemperature'].mean()\n",
    "\n",
    "# Plot the results\n",
    "plt.scatter(average_uncertainty_by_year.index, average_uncertainty_by_year.values, color='#008080')\n",
    "plt.title('Average Temperature by Year')\n",
    "plt.xlabel('Year')\n",
    "plt.ylabel('Average Temperature (C°)')\n",
    "plt.xticks(range(min(df4['Year']), max(df4['Year'])+1, 12))\n",
    "plt.xticks(rotation=45)\n",
    "plt.show()"
   ]
  }
 ],
 "metadata": {
  "kernelspec": {
   "display_name": "Python 3 (ipykernel)",
   "language": "python",
   "name": "python3"
  },
  "language_info": {
   "codemirror_mode": {
    "name": "ipython",
    "version": 3
   },
   "file_extension": ".py",
   "mimetype": "text/x-python",
   "name": "python",
   "nbconvert_exporter": "python",
   "pygments_lexer": "ipython3",
   "version": "3.9.7"
  }
 },
 "nbformat": 4,
 "nbformat_minor": 5
}
